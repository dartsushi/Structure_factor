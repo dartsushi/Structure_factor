{
 "cells": [
  {
   "cell_type": "code",
   "execution_count": 42,
   "id": "2d2bad0c-d36f-48e8-8e3b-7a6031045d4f",
   "metadata": {},
   "outputs": [
    {
     "data": {
      "text/plain": [
       "initialize_Ising (generic function with 1 method)"
      ]
     },
     "execution_count": 42,
     "metadata": {},
     "output_type": "execute_result"
    }
   ],
   "source": [
    "include(\"util.jl\")\n",
    "#=\n",
    "    This is an implementation of the structure factor calculation based on PHYSICAL REVIEW B 105, 195140 (2022)\n",
    "=#"
   ]
  },
  {
   "cell_type": "code",
   "execution_count": 43,
   "id": "8a2a2855-a43b-4bfc-b1e1-ebfcd932adcf",
   "metadata": {},
   "outputs": [
    {
     "data": {
      "text/plain": [
       "WindowMPS{TrivialTensorMap{ComplexSpace, 2, 1, Matrix{ComplexF64}}, TrivialTensorMap{ComplexSpace, 1, 1, Matrix{ComplexF64}}}(│   ⋮\n",
       "│ CR[1]: TensorMap(ℂ^8 ← ℂ^8)\n",
       "├── AL[1]: TensorMap((ℂ^8 ⊗ ℂ^2) ← ℂ^8)\n",
       "│   ⋮\n",
       ", ┌ CL[2]: TensorMap(ℂ^8 ← ℂ^8)\n",
       "└── AL[1]: TensorMap((ℂ^8 ⊗ ℂ^2) ← ℂ^8)\n",
       ", │   ⋮\n",
       "│ CR[1]: TensorMap(ℂ^8 ← ℂ^8)\n",
       "├── AL[1]: TensorMap((ℂ^8 ⊗ ℂ^2) ← ℂ^8)\n",
       "│   ⋮\n",
       ")"
      ]
     },
     "execution_count": 43,
     "metadata": {},
     "output_type": "execute_result"
    }
   ],
   "source": [
    "χ = 8\n",
    "ψtop = InfiniteMPS(rand,T,ℂ^2,ℂ^χ)\n",
    "ψ_AC = FiniteMPS(fill(ψtop.AC[1],1))\n",
    "ψ_window = WindowMPS(ψtop,ψ_AC,ψtop)"
   ]
  },
  {
   "cell_type": "code",
   "execution_count": null,
   "id": "6459055c-0168-475c-80ab-25756b2d3e34",
   "metadata": {},
   "outputs": [],
   "source": []
  }
 ],
 "metadata": {
  "kernelspec": {
   "display_name": "Julia 1.10.2",
   "language": "julia",
   "name": "julia-1.10"
  },
  "language_info": {
   "file_extension": ".jl",
   "mimetype": "application/julia",
   "name": "julia",
   "version": "1.10.2"
  }
 },
 "nbformat": 4,
 "nbformat_minor": 5
}
